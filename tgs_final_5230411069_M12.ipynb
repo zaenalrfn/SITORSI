{
 "cells": [
  {
   "cell_type": "markdown",
   "metadata": {},
   "source": []
  },
  {
   "cell_type": "code",
   "execution_count": null,
   "metadata": {},
   "outputs": [],
   "source": [
    "from pywebio.input import input, FLOAT\n",
    "from pywebio.output import put_text\n",
    "\n",
    "def bmi():\n",
    "    height = input(\"Input your height(cm)：\", type=FLOAT)\n",
    "    weight = input(\"Input your weight(kg)：\", type=FLOAT)\n",
    "\n",
    "    BMI = weight / (height / 100) ** 2\n",
    "\n",
    "    top_status = [(16, 'Severely underweight'), (18.5, 'Underweight'),\n",
    "                  (25, 'Normal'), (30, 'Overweight'),\n",
    "                  (35, 'Moderately obese'), (float('inf'), 'Severely obese')]\n",
    "\n",
    "    for top, status in top_status:\n",
    "        if BMI <= top:\n",
    "            put_text('Your BMI: %.1f. Category: %s' % (BMI, status))\n",
    "            break\n",
    "\n",
    "if __name__ == '__main__':\n",
    "    bmi()"
   ]
  },
  {
   "cell_type": "code",
   "execution_count": null,
   "metadata": {},
   "outputs": [],
   "source": []
  }
 ],
 "metadata": {
  "language_info": {
   "name": "python"
  }
 },
 "nbformat": 4,
 "nbformat_minor": 2
}
